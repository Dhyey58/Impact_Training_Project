{
 "cells": [
  {
   "cell_type": "code",
   "execution_count": 1,
   "id": "fdedf7c0-760a-4aea-a81f-b0b7b51ee82f",
   "metadata": {},
   "outputs": [],
   "source": [
    "class Task:\n",
    "    def __init__(self, title, priority):\n",
    "        self.title = title\n",
    "        self.priority = priority\n",
    "\n",
    "    def __lt__(self, other):\n",
    "        return self.priority < other.priority  \n",
    "\n",
    "class PriorityQueue:\n",
    "    def __init__(self):\n",
    "        self.tasks = []\n",
    "\n",
    "    def add_task(self, task):\n",
    "        self.tasks.append(task)\n",
    "        self.tasks.sort()  \n",
    "\n",
    "    def remove_task(self, title):\n",
    "        for task in self.tasks:\n",
    "            if task.title == title:\n",
    "                self.tasks.remove(task)\n",
    "                return True\n",
    "        return False\n",
    "\n",
    "    def get_highest_priority_task(self):\n",
    "        if self.tasks:\n",
    "            return self.tasks[0]\n",
    "        return None\n",
    "\n",
    "    def display_tasks(self):\n",
    "        if not self.tasks:\n",
    "            print(\"No tasks available.\")\n",
    "            return\n",
    "        for task in self.tasks:\n",
    "            print(f\"Task: {task.title}, Priority: {task.priority}\")\n",
    "\n",
    "class Stack:\n",
    "    def __init__(self):\n",
    "        self.completed_tasks = []\n",
    "\n",
    "    def push(self, task):\n",
    "        self.completed_tasks.append(task)\n",
    "\n",
    "    def pop(self):\n",
    "        if self.completed_tasks:\n",
    "            return self.completed_tasks.pop()\n",
    "        return None\n",
    "\n",
    "    def display_completed_tasks(self):\n",
    "        if not self.completed_tasks:\n",
    "            print(\"No completed tasks.\")\n",
    "            return\n",
    "        for task in self.completed_tasks:\n",
    "            print(f\"Completed Task: {task.title}, Priority: {task.priority}\")\n",
    "\n",
    "class TaskManager:\n",
    "    def __init__(self):\n",
    "        self.task_queue = PriorityQueue()\n",
    "        self.completed_stack = Stack()\n",
    "\n",
    "    def add_task(self, title, priority):\n",
    "        task = Task(title, priority)\n",
    "        self.task_queue.add_task(task)\n",
    "        print(f\"Task '{title}' added with priority {priority}.\")\n",
    "\n",
    "    def remove_task(self, title):\n",
    "        if self.task_queue.remove_task(title):\n",
    "            print(f\"Task '{title}' removed.\")\n",
    "        else:\n",
    "            print(f\"Task '{title}' not found.\")\n",
    "\n",
    "    def complete_task(self, title):\n",
    "        for task in self.task_queue.tasks:\n",
    "            if task.title == title:\n",
    "                self.completed_stack.push(task)\n",
    "                self.task_queue.remove_task(title)\n",
    "                print(f\"Task '{title}' marked as completed.\")\n",
    "                return\n",
    "        print(f\"Task '{title}' not found.\")\n",
    "\n",
    "    def display_tasks(self):\n",
    "        print(\"Current Tasks:\")\n",
    "        self.task_queue.display_tasks()\n",
    "\n",
    "    def display_completed_tasks(self):\n",
    "        print(\"Completed Tasks:\")\n",
    "        self.completed_stack.display_completed_tasks()"
   ]
  },
  {
   "cell_type": "code",
   "execution_count": 3,
   "id": "615895c1-4fe0-440c-8b62-4a47200853d6",
   "metadata": {},
   "outputs": [
    {
     "name": "stdout",
     "output_type": "stream",
     "text": [
      "Task 'Finish project report' added with priority 2.\n",
      "Task 'Email client' added with priority 1.\n",
      "Task 'Prepare presentation' added with priority 3.\n"
     ]
    }
   ],
   "source": [
    "task_manager = TaskManager()\n",
    "task_manager.add_task(\"Finish project report\", 2)\n",
    "task_manager.add_task(\"Email client\", 1)\n",
    "task_manager.add_task(\"Prepare presentation\", 3)"
   ]
  },
  {
   "cell_type": "code",
   "execution_count": 5,
   "id": "e1f1d7fc-b9f2-44a3-a7e0-fcde2a629ab6",
   "metadata": {},
   "outputs": [
    {
     "name": "stdout",
     "output_type": "stream",
     "text": [
      "Current Tasks:\n",
      "Task: Email client, Priority: 1\n",
      "Task: Finish project report, Priority: 2\n",
      "Task: Prepare presentation, Priority: 3\n"
     ]
    }
   ],
   "source": [
    "task_manager.display_tasks()"
   ]
  },
  {
   "cell_type": "code",
   "execution_count": 8,
   "id": "14828110-f978-41e0-bb32-4462e90dc50f",
   "metadata": {},
   "outputs": [
    {
     "name": "stdout",
     "output_type": "stream",
     "text": [
      "Task 'Email client' marked as completed.\n",
      "Completed Tasks:\n",
      "Completed Task: Email client, Priority: 1\n"
     ]
    }
   ],
   "source": [
    "task_manager.complete_task(\"Email client\")\n",
    "task_manager.display_completed_tasks()"
   ]
  },
  {
   "cell_type": "code",
   "execution_count": 10,
   "id": "f55c5c29-d079-4c51-ac23-cb9cbf4f2be4",
   "metadata": {},
   "outputs": [
    {
     "name": "stdout",
     "output_type": "stream",
     "text": [
      "Task 'Finish project report' removed.\n",
      "Current Tasks:\n",
      "Task: Prepare presentation, Priority: 3\n"
     ]
    }
   ],
   "source": [
    "task_manager.remove_task(\"Finish project report\")\n",
    "task_manager.display_tasks()"
   ]
  },
  {
   "cell_type": "code",
   "execution_count": null,
   "id": "126877a7-5480-42b4-b84a-ac7dacca4bb2",
   "metadata": {},
   "outputs": [],
   "source": [
    "hello"
   ]
  },
  {
   "cell_type": "code",
   "execution_count": null,
   "id": "0b2b93e7",
   "metadata": {},
   "outputs": [],
   "source": []
  }
 ],
 "metadata": {
  "kernelspec": {
   "display_name": "Python 3 (ipykernel)",
   "language": "python",
   "name": "python3"
  },
  "language_info": {
   "codemirror_mode": {
    "name": "ipython",
    "version": 3
   },
   "file_extension": ".py",
   "mimetype": "text/x-python",
   "name": "python",
   "nbconvert_exporter": "python",
   "pygments_lexer": "ipython3",
   "version": "3.12.4"
  }
 },
 "nbformat": 4,
 "nbformat_minor": 5
}
